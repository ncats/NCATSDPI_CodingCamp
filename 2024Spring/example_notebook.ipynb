{
 "cells": [
  {
   "cell_type": "markdown",
   "source": [
    "# Get a list of Targets based on a pathway\n",
    "#### Create a POST request to the RaMP API"
   ],
   "metadata": {
    "collapsed": false
   },
   "id": "f8b082a3fc7fe83d"
  },
  {
   "cell_type": "code",
   "execution_count": null,
   "id": "440d964d31af4cab",
   "metadata": {
    "collapsed": false
   },
   "outputs": [],
   "source": [
    "import requests\n",
    "import pandas as pd\n",
    "import json\n",
    "\n",
    "# see https://rampdb.nih.gov/api for details\n",
    "\n",
    "ramp_url = \"https://rampdb.nih.gov/api/analytes-from-pathways\"\n",
    "\n",
    "post_body = {\n",
    "    \"analyte_type\": \"gene\",\n",
    "    \"names_or_ids\": \"names\",\n",
    "    \"max_pathway_size\": 500,\n",
    "    \"pathway\": [\"Sleep regulation\"]\n",
    "}"
   ]
  },
  {
   "cell_type": "markdown",
   "id": "28ae39fa028f3671",
   "metadata": {
    "collapsed": false,
    "user_expressions": []
   },
   "source": [
    "#### do the POST request"
   ]
  },
  {
   "cell_type": "code",
   "execution_count": null,
   "id": "5317b4f5c5587754",
   "metadata": {
    "collapsed": false
   },
   "outputs": [],
   "source": [
    "response = requests.post(ramp_url, data=post_body)\n",
    "response_json = json.loads(response.text)[\"data\"]"
   ]
  },
  {
   "cell_type": "markdown",
   "source": [
    "#### Parse the result"
   ],
   "metadata": {
    "collapsed": false
   },
   "id": "d98be07d2196b280"
  },
  {
   "cell_type": "code",
   "execution_count": null,
   "id": "b1bc10c77c95d13a",
   "metadata": {
    "collapsed": false
   },
   "outputs": [],
   "source": [
    "target_uniprots = []\n",
    "for entry in response_json:\n",
    "    ids = entry['sourceAnalyteIDs'].split(',')\n",
    "    for id in ids:\n",
    "        if id.startswith('uniprot:'):\n",
    "            uniprot = id.split(':')[1]\n",
    "            target_uniprots.append(uniprot)\n",
    "            \n",
    "target_uniprots = list(set(target_uniprots))\n",
    "\n",
    "print(pd.DataFrame(target_uniprots))"
   ]
  },
  {
   "cell_type": "markdown",
   "id": "a19100cdafc41284",
   "metadata": {
    "collapsed": false,
    "user_expressions": []
   },
   "source": [
    "# Get gene-disease associations and drug activities for those targets\n",
    "#### Create a POST request to the Pharos API"
   ]
  },
  {
   "cell_type": "code",
   "execution_count": null,
   "id": "d573f51efc43f8cb",
   "metadata": {
    "collapsed": false
   },
   "outputs": [],
   "source": [
    "# see https://pharos.nih.gov/api for details\n",
    "\n",
    "pharos_url = \"https://pharos-api.ncats.io/graphql\"\n",
    "\n",
    "post_body = {\n",
    "  \"query\": \"\"\"query targetDetails($targets: [String]){\n",
    "  targets(targets: $targets) {\n",
    "    count\n",
    "    targets(top: 100000) {\n",
    "      name\n",
    "      uniprot\n",
    "      drugs:ligands(isdrug: true) {\n",
    "        name\n",
    "        smiles\n",
    "        synonyms {\n",
    "          value\n",
    "          name\n",
    "        }\n",
    "      }\n",
    "      ligands(isdrug: false) {\n",
    "        name\n",
    "        smiles\n",
    "        synonyms {\n",
    "          value\n",
    "          name\n",
    "        }\n",
    "      }\n",
    "      diseases {\n",
    "        mondoID\n",
    "        name\n",
    "        mondoEquivalents {\n",
    "          id\n",
    "          name\n",
    "        }\n",
    "      }\n",
    "    }\n",
    "  }\n",
    "}\"\"\",\n",
    "  \"variables\": {\"targets\": target_uniprots},\n",
    "  \"operationName\": \"targetDetails\"\n",
    "}"
   ]
  },
  {
   "cell_type": "markdown",
   "id": "765e1295674bebbb",
   "metadata": {
    "collapsed": false,
    "user_expressions": []
   },
   "source": [
    "#### do the POST request"
   ]
  },
  {
   "cell_type": "code",
   "execution_count": null,
   "id": "6a80c604d661327f",
   "metadata": {
    "collapsed": false
   },
   "outputs": [],
   "source": [
    "response = requests.post(pharos_url, json=post_body)\n",
    "response_json = json.loads(response.text)[\"data\"]\n",
    "target_list = response_json[\"targets\"][\"targets\"]"
   ]
  },
  {
   "cell_type": "markdown",
   "id": "fbe4e307bd32f2bb",
   "metadata": {
    "collapsed": false,
    "user_expressions": []
   },
   "source": [
    "#### Parse the disease results"
   ]
  },
  {
   "cell_type": "code",
   "execution_count": null,
   "id": "2d6e269af85730ae",
   "metadata": {
    "collapsed": false
   },
   "outputs": [],
   "source": [
    "disease_objects = [disease for target in target_list for disease in target[\"diseases\"]]\n",
    "disease_names = list(set(disease[\"name\"] for disease in disease_objects))\n",
    "\n",
    "print(pd.DataFrame(disease_objects))\n",
    "\n",
    "gard_aliases = [alias[\"id\"] for disease in disease_objects if disease[\"mondoEquivalents\"] is not None for alias in disease[\"mondoEquivalents\"] if alias[\"id\"].startswith(\"GARD:\")]\n",
    "gard_aliases = list(set(gard_aliases))\n",
    "\n",
    "print(gard_aliases)"
   ]
  },
  {
   "cell_type": "markdown",
   "id": "7f3fadd30404756",
   "metadata": {
    "collapsed": false,
    "user_expressions": []
   },
   "source": [
    "#### Parse the drug results"
   ]
  },
  {
   "cell_type": "code",
   "execution_count": null,
   "id": "caf3869f515943af",
   "metadata": {
    "collapsed": false
   },
   "outputs": [],
   "source": [
    "drug_objects = [drug for target in target_list for drug in target[\"ligands\"]]\n",
    "drug_objects.extend([drug for target in target_list for drug in target[\"drugs\"]])\n",
    "\n",
    "drug_names = list(set(drug[\"name\"] for drug in drug_objects))\n",
    "\n",
    "print(pd.DataFrame(drug_objects))\n",
    "\n",
    "unii_aliases = [synonym[\"value\"] for drug in drug_objects for synonym in drug[\"synonyms\"] if synonym[\"name\"] == \"unii\"]\n",
    "unii_aliases = list(set(unii_aliases))\n",
    "print(unii_aliases)"
   ]
  },
  {
   "cell_type": "markdown",
   "id": "21c62a7e54cc3d03",
   "metadata": {
    "collapsed": false,
    "user_expressions": []
   },
   "source": [
    "## Get Disease Details\n",
    "#### Create POST request to the RDAS API"
   ]
  },
  {
   "cell_type": "code",
   "execution_count": null,
   "id": "fd8388104ca9cd29",
   "metadata": {
    "collapsed": false
   },
   "outputs": [],
   "source": [
    "# see https://rdas.ncats.nih.gov/api/diseases for details\n",
    "\n",
    "rdas_url = \"https://rdas.ncats.nih.gov/api/diseases\"\n",
    "\n",
    "post_body = {\n",
    "    \"query\": \"\"\"query diseaseQuery($where: GARDWhere) {\n",
    "  gards(where: $where) {\n",
    "    GardId\n",
    "    GardName\n",
    "    MeSH\n",
    "    Synonyms\n",
    "    COUNT_ARTICLES\n",
    "    COUNT_TRIALS\n",
    "    ClassificationLevel\n",
    "  }\n",
    "}\"\"\", \n",
    "\n",
    "  \"variables\": {\"where\": {\"GardId_IN\": gard_aliases}},\n",
    "  \"operationName\": \"diseaseQuery\"\n",
    "}"
   ]
  },
  {
   "cell_type": "markdown",
   "id": "f778369ab31fe898",
   "metadata": {
    "collapsed": false,
    "user_expressions": []
   },
   "source": [
    "#### do the POST request"
   ]
  },
  {
   "cell_type": "code",
   "execution_count": null,
   "id": "b0c99ba1161896b8",
   "metadata": {
    "collapsed": false
   },
   "outputs": [],
   "source": [
    "response = requests.post(rdas_url, json=post_body)\n",
    "response_json = json.loads(response.text)[\"data\"]"
   ]
  },
  {
   "cell_type": "markdown",
   "id": "14dd447c43f0426b",
   "metadata": {
    "collapsed": false,
    "user_expressions": []
   },
   "source": [
    "#### parse the results"
   ]
  },
  {
   "cell_type": "code",
   "execution_count": null,
   "id": "7e1995874180569",
   "metadata": {
    "collapsed": false
   },
   "outputs": [],
   "source": [
    "gard_data = [{\n",
    "    \"GardId\": obj[\"GardId\"],\n",
    "    \"GardName\": obj[\"GardName\"],\n",
    "    \"COUNT_ARTICLES\": obj[\"COUNT_ARTICLES\"],\n",
    "    \"COUNT_TRIALS\": obj[\"COUNT_TRIALS\"],\n",
    "    \"ClassificationLevel\": obj[\"ClassificationLevel\"]\n",
    "} for obj in response_json[\"gards\"]]\n",
    "df = pd.DataFrame(gard_data)\n",
    "print(df)"
   ]
  },
  {
   "cell_type": "markdown",
   "id": "e77f786e7b33164d",
   "metadata": {
    "collapsed": false,
    "user_expressions": []
   },
   "source": [
    "## Get Drug Details\n",
    "#### Create GET request strings"
   ]
  },
  {
   "cell_type": "code",
   "execution_count": null,
   "id": "2d4bd27398058756",
   "metadata": {
    "collapsed": false
   },
   "outputs": [],
   "source": [
    "drug_requests = [f\"https://drugs.ncats.io/api/v1/substances({unii})?view=full\" for unii in unii_aliases]\n",
    "\n",
    "drug_objects = []\n",
    "for req in drug_requests:\n",
    "    \n",
    "    drug_json = json.loads(requests.get(req).text)\n",
    "    \n",
    "    if \"_name\" in drug_json:\n",
    "        drug_obj = {\n",
    "            \"name\": drug_json[\"_name\"], \n",
    "            \"approval_ID\": drug_json[\"approvalID\"],\n",
    "            \"substanceClass\": drug_json[\"substanceClass\"],\n",
    "            \"status\": drug_json[\"status\"]\n",
    "        }\n",
    "        if \"structure\" in drug_json:\n",
    "            drug_obj[\"formula\"] = drug_json[\"structure\"][\"formula\"]\n",
    "            drug_obj[\"mwt\"] = drug_json[\"structure\"][\"mwt\"]\n",
    "        \n",
    "        drug_objects.append(drug_obj)\n",
    "    else:\n",
    "        print(drug_json)\n",
    "\n",
    "df = pd.DataFrame(drug_objects)\n",
    "print(df)"
   ]
  },
  {
   "cell_type": "code",
   "execution_count": null,
   "id": "22297d5927c88151",
   "metadata": {
    "collapsed": false
   },
   "outputs": [],
   "source": []
  }
 ],
 "metadata": {
  "kernelspec": {
   "display_name": "Python 3 (ipykernel)",
   "language": "python",
   "name": "python3"
  },
  "language_info": {
   "codemirror_mode": {
    "name": "ipython",
    "version": 3
   },
   "file_extension": ".py",
   "mimetype": "text/x-python",
   "name": "python",
   "nbconvert_exporter": "python",
   "pygments_lexer": "ipython3",
   "version": "3.11.5"
  }
 },
 "nbformat": 4,
 "nbformat_minor": 5
}
