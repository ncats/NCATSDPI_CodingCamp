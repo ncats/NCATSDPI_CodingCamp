{
 "cells": [
  {
   "cell_type": "markdown",
   "source": [
    "# Get a list of Targets based on a pathway\n",
    "#### Create a POST request to the RaMP API"
   ],
   "metadata": {
    "collapsed": false
   },
   "id": "f8b082a3fc7fe83d"
  },
  {
   "cell_type": "code",
   "execution_count": 101,
   "id": "440d964d31af4cab",
   "metadata": {
    "collapsed": false,
    "ExecuteTime": {
     "end_time": "2024-10-25T04:02:30.905847Z",
     "start_time": "2024-10-25T04:02:30.886425Z"
    }
   },
   "outputs": [],
   "source": [
    "import requests\n",
    "import pandas as pd\n",
    "import json\n",
    "\n",
    "# see https://rampdb.nih.gov/api for details\n",
    "\n",
    "ramp_url = \"https://rampdb.nih.gov/api/analytes-from-pathways\"\n",
    "\n",
    "post_body = {\n",
    "    \"analyte_type\": \"gene\",\n",
    "    \"names_or_ids\": \"names\",\n",
    "    \"max_pathway_size\": 500,\n",
    "    \"pathway\": [\"Transcriptional Regulation by VENTX\"]\n",
    "}"
   ]
  },
  {
   "cell_type": "markdown",
   "id": "28ae39fa028f3671",
   "metadata": {
    "collapsed": false,
    "user_expressions": []
   },
   "source": [
    "#### do the POST request"
   ]
  },
  {
   "cell_type": "code",
   "execution_count": 102,
   "id": "5317b4f5c5587754",
   "metadata": {
    "collapsed": false,
    "ExecuteTime": {
     "end_time": "2024-10-25T04:02:33.196675Z",
     "start_time": "2024-10-25T04:02:32.284037Z"
    }
   },
   "outputs": [],
   "source": [
    "response = requests.post(ramp_url, data=post_body)\n",
    "response_json = json.loads(response.text)[\"data\"]"
   ]
  },
  {
   "cell_type": "markdown",
   "id": "d98be07d2196b280",
   "metadata": {
    "collapsed": false,
    "user_expressions": []
   },
   "source": [
    "#### Parse the result"
   ]
  },
  {
   "cell_type": "code",
   "execution_count": 103,
   "id": "b1bc10c77c95d13a",
   "metadata": {
    "collapsed": false,
    "ExecuteTime": {
     "end_time": "2024-10-25T04:02:34.000139Z",
     "start_time": "2024-10-25T04:02:33.989997Z"
    }
   },
   "outputs": [
    {
     "name": "stdout",
     "output_type": "stream",
     "text": [
      "         0\n",
      "0   Q9UL18\n",
      "1   P60006\n",
      "2   Q9UJX6\n",
      "3   O95231\n",
      "4   Q9UJU2\n",
      "5   Q8NDV7\n",
      "6   Q9UJX3\n",
      "7   P42771\n",
      "8   Q96DE5\n",
      "9   Q8NHZ8\n",
      "10  Q9HCJ0\n",
      "11  Q9H9G7\n",
      "12  P30260\n",
      "13  Q9NYG5\n",
      "14  Q9UJX2\n",
      "15  Q9UJX5\n",
      "16  Q9H1A4\n",
      "17  P04637\n",
      "18  P17676\n",
      "19  Q9HCK5\n",
      "20  Q04206\n",
      "21  Q9UM11\n",
      "22  Q13042\n",
      "23  Q9UM13\n",
      "24  Q9UPQ9\n",
      "25  Q9NQB0\n",
      "26  Q9UJX4\n"
     ]
    }
   ],
   "source": [
    "target_uniprots = [id.split(\":\")[1].split(\",\")[0] \n",
    "                   for entry in response_json \n",
    "                   for id in entry[\"sourceAnalyteIDs\"].split(\";\") if id.strip().startswith(\"uniprot:\")]\n",
    "\n",
    "target_uniprots = list(set(target_uniprots))\n",
    "\n",
    "print(pd.DataFrame(target_uniprots))"
   ]
  },
  {
   "cell_type": "markdown",
   "id": "a19100cdafc41284",
   "metadata": {
    "collapsed": false,
    "user_expressions": []
   },
   "source": [
    "# Get gene-disease associations and drug activities for those targets\n",
    "#### Create a POST request to the Pharos API"
   ]
  },
  {
   "cell_type": "code",
   "execution_count": 104,
   "id": "d573f51efc43f8cb",
   "metadata": {
    "collapsed": false,
    "ExecuteTime": {
     "end_time": "2024-10-25T04:02:36.510507Z",
     "start_time": "2024-10-25T04:02:36.468862Z"
    }
   },
   "outputs": [],
   "source": [
    "# see https://pharos.nih.gov/api for details\n",
    "\n",
    "pharos_url = \"https://pharos-api.ncats.io/graphql\"\n",
    "\n",
    "post_body = {\n",
    "  \"query\": \"\"\"query targetDetails($targets: [String]){\n",
    "  targets(targets: $targets) {\n",
    "    count\n",
    "    targets(top: 100000) {\n",
    "      name\n",
    "      uniprot\n",
    "      ligands(isdrug: true) {\n",
    "        name\n",
    "        smiles\n",
    "        synonyms {\n",
    "          value\n",
    "          name\n",
    "        }\n",
    "      }\n",
    "      diseases {\n",
    "        mondoID\n",
    "        name\n",
    "        mondoEquivalents {\n",
    "          id\n",
    "          name\n",
    "        }\n",
    "      }\n",
    "    }\n",
    "  }\n",
    "}\"\"\",\n",
    "  \"variables\": {\"targets\": target_uniprots},\n",
    "  \"operationName\": \"targetDetails\"\n",
    "}"
   ]
  },
  {
   "cell_type": "markdown",
   "id": "765e1295674bebbb",
   "metadata": {
    "collapsed": false,
    "user_expressions": []
   },
   "source": [
    "#### do the POST request"
   ]
  },
  {
   "cell_type": "code",
   "execution_count": 105,
   "id": "6a80c604d661327f",
   "metadata": {
    "collapsed": false,
    "ExecuteTime": {
     "end_time": "2024-10-25T04:02:38.161814Z",
     "start_time": "2024-10-25T04:02:37.939088Z"
    }
   },
   "outputs": [],
   "source": [
    "response = requests.post(pharos_url, json=post_body)\n",
    "response_json = json.loads(response.text)[\"data\"]\n",
    "target_list = response_json[\"targets\"][\"targets\"]"
   ]
  },
  {
   "cell_type": "markdown",
   "id": "fbe4e307bd32f2bb",
   "metadata": {
    "collapsed": false,
    "user_expressions": []
   },
   "source": [
    "#### Parse the disease results"
   ]
  },
  {
   "cell_type": "code",
   "execution_count": 106,
   "id": "2d6e269af85730ae",
   "metadata": {
    "collapsed": false,
    "ExecuteTime": {
     "end_time": "2024-10-25T04:02:39.605350Z",
     "start_time": "2024-10-25T04:02:39.596698Z"
    }
   },
   "outputs": [
    {
     "name": "stdout",
     "output_type": "stream",
     "text": [
      "           mondoID                                               name  \\\n",
      "0    MONDO:0005575                                  colorectal cancer   \n",
      "1    MONDO:0004381  pancreatic intraductal papillary-mucinous neop...   \n",
      "2    MONDO:0009807                                       osteosarcoma   \n",
      "3    MONDO:0008170                                     ovarian cancer   \n",
      "4    MONDO:0018177                                       glioblastoma   \n",
      "..             ...                                                ...   \n",
      "195  MONDO:0004948                B-cell chronic lymphocytic leukemia   \n",
      "196  MONDO:0007576                                  esophageal cancer   \n",
      "197  MONDO:0006639                           adrenal cortex carcinoma   \n",
      "198  MONDO:0008734               adrenocortical carcinoma, hereditary   \n",
      "199  MONDO:0100342                                   malignant glioma   \n",
      "\n",
      "                                      mondoEquivalents  \n",
      "0    [{'id': 'DOID:5672', 'name': 'large intestine ...  \n",
      "1    [{'id': 'DOID:7851', 'name': 'pancreatic intra...  \n",
      "2    [{'id': 'DOID:3347', 'name': 'osteosarcoma'}, ...  \n",
      "3    [{'id': 'COHD:4181351', 'name': None}, {'id': ...  \n",
      "4    [{'id': 'DOID:3068', 'name': 'glioblastoma mul...  \n",
      "..                                                 ...  \n",
      "195  [{'id': 'DOID:1040', 'name': 'chronic lymphocy...  \n",
      "196  [{'id': 'COHD:4092060', 'name': None}, {'id': ...  \n",
      "197  [{'id': 'DOID:3948', 'name': 'adrenocortical c...  \n",
      "198  [{'id': 'OMIM:202300', 'name': 'ADRENOCORTICAL...  \n",
      "199  [{'id': 'DOID:3070', 'name': 'malignant glioma...  \n",
      "\n",
      "[200 rows x 3 columns]\n"
     ]
    }
   ],
   "source": [
    "disease_objects = [disease for target in target_list for disease in target[\"diseases\"]]\n",
    "disease_names = list(set(disease[\"name\"] for disease in disease_objects))\n",
    "\n",
    "print(pd.DataFrame(disease_objects))\n",
    "\n",
    "gard_aliases = [alias[\"id\"] for disease in disease_objects if disease[\"mondoEquivalents\"] is not None for alias in disease[\"mondoEquivalents\"] if alias[\"id\"].startswith(\"GARD:\")]\n",
    "gard_aliases = list(set(gard_aliases))"
   ]
  },
  {
   "cell_type": "markdown",
   "id": "7f3fadd30404756",
   "metadata": {
    "collapsed": false,
    "user_expressions": []
   },
   "source": [
    "#### Parse the drug results"
   ]
  },
  {
   "cell_type": "code",
   "execution_count": 107,
   "id": "caf3869f515943af",
   "metadata": {
    "collapsed": false,
    "ExecuteTime": {
     "end_time": "2024-10-25T04:02:42.548018Z",
     "start_time": "2024-10-25T04:02:42.490901Z"
    }
   },
   "outputs": [
    {
     "name": "stdout",
     "output_type": "stream",
     "text": [
      "         name                                             smiles  \\\n",
      "0  bortezomib  CC(C)C[C@H](NC(=O)[C@H](Cc1ccccc1)NC(=O)c1cncc...   \n",
      "1   gefitinib     COc1cc2ncnc(c2cc1OCCCN1CCOCC1)Nc1ccc(c(c1)Cl)F   \n",
      "\n",
      "                                            synonyms  \n",
      "0  [{'value': '69G8BD63PP', 'name': 'unii'}, {'va...  \n",
      "1  [{'value': 'S65743JHBS', 'name': 'unii'}, {'va...  \n"
     ]
    }
   ],
   "source": [
    "drug_objects = [drug for target in target_list for drug in target[\"ligands\"]]\n",
    "drug_names = list(set(drug[\"name\"] for drug in drug_objects))\n",
    "\n",
    "print(pd.DataFrame(drug_objects))\n",
    "\n",
    "unii_aliases = [synonym[\"value\"] for drug in drug_objects for synonym in drug[\"synonyms\"] if synonym[\"name\"] == \"unii\"]\n",
    "unii_aliases = list(set(unii_aliases))\n"
   ]
  },
  {
   "cell_type": "markdown",
   "id": "21c62a7e54cc3d03",
   "metadata": {
    "collapsed": false,
    "user_expressions": []
   },
   "source": [
    "## Get Disease Details\n",
    "#### Create POST request to the RDAS API"
   ]
  },
  {
   "cell_type": "code",
   "execution_count": 108,
   "id": "fd8388104ca9cd29",
   "metadata": {
    "collapsed": false,
    "ExecuteTime": {
     "end_time": "2024-10-25T04:02:46.707070Z",
     "start_time": "2024-10-25T04:02:46.698057Z"
    }
   },
   "outputs": [],
   "source": [
    "# see https://rdas.ncats.nih.gov/api/diseases for details\n",
    "\n",
    "rdas_url = \"https://rdas.ncats.nih.gov/api/diseases\"\n",
    "\n",
    "post_body = {\n",
    "    \"query\": \"\"\"query diseaseQuery($where: GARDWhere) {\n",
    "  gards(where: $where) {\n",
    "    GardId\n",
    "    GardName\n",
    "    MeSH\n",
    "    Synonyms\n",
    "    COUNT_ARTICLES\n",
    "    COUNT_TRIALS\n",
    "    ClassificationLevel\n",
    "  }\n",
    "}\"\"\", \n",
    "\n",
    "  \"variables\": {\"where\": {\"GardId_IN\": gard_aliases}},\n",
    "  \"operationName\": \"diseaseQuery\"\n",
    "}"
   ]
  },
  {
   "cell_type": "markdown",
   "id": "f778369ab31fe898",
   "metadata": {
    "collapsed": false,
    "user_expressions": []
   },
   "source": [
    "#### do the POST request"
   ]
  },
  {
   "cell_type": "code",
   "execution_count": 109,
   "id": "b0c99ba1161896b8",
   "metadata": {
    "collapsed": false,
    "ExecuteTime": {
     "end_time": "2024-10-25T04:02:49.413898Z",
     "start_time": "2024-10-25T04:02:48.857410Z"
    }
   },
   "outputs": [],
   "source": [
    "response = requests.post(rdas_url, json=post_body)\n",
    "response_json = json.loads(response.text)[\"data\"]"
   ]
  },
  {
   "cell_type": "markdown",
   "id": "14dd447c43f0426b",
   "metadata": {
    "collapsed": false,
    "user_expressions": []
   },
   "source": [
    "#### parse the results"
   ]
  },
  {
   "cell_type": "code",
   "execution_count": 110,
   "id": "7e1995874180569",
   "metadata": {
    "collapsed": false,
    "ExecuteTime": {
     "end_time": "2024-10-25T04:02:50.203353Z",
     "start_time": "2024-10-25T04:02:50.150572Z"
    }
   },
   "outputs": [
    {
     "name": "stdout",
     "output_type": "stream",
     "text": [
      "          GardId                                       GardName  \\\n",
      "0   GARD:0005786                  Amyotrophic lateral sclerosis   \n",
      "1   GARD:0006383                         Carcinoma of esophagus   \n",
      "2   GARD:0009953                              Oligodendroglioma   \n",
      "3   GARD:0004214                    Papilloma of choroid plexus   \n",
      "4   GARD:0007392  Behavioral variant of frontotemporal dementia   \n",
      "5   GARD:0006902                           Li-Fraumeni syndrome   \n",
      "6   GARD:0002491                                   Glioblastoma   \n",
      "7   GARD:0006996                      Cartilage-hair hypoplasia   \n",
      "8   GARD:0009371                            Pituitary carcinoma   \n",
      "9   GARD:0007026                           Pleural mesothelioma   \n",
      "10  GARD:0007471                 Progressive supranuclear palsy   \n",
      "11  GARD:0006225             Rare cutaneous lupus erythematosus   \n",
      "12  GARD:0012757                         Acute myeloid leukemia   \n",
      "13  GARD:0006353                                     Ependymoma   \n",
      "14  GARD:0010430                                Dravet syndrome   \n",
      "15  GARD:0007108                               Multiple myeloma   \n",
      "16  GARD:0007005                                Medulloblastoma   \n",
      "17  GARD:0010632            Subependymal giant cell astrocytoma   \n",
      "18  GARD:0006637                  Hereditary spastic paraplegia   \n",
      "19  GARD:0007827                                   Tuberculosis   \n",
      "20  GARD:0006104            B-cell chronic lymphocytic leukemia   \n",
      "21  GARD:0008468      Melanoma and neural system tumor syndrome   \n",
      "22  GARD:0003178                  Diffuse large B-cell lymphoma   \n",
      "23  GARD:0009304                             Cholangiocarcinoma   \n",
      "24  GARD:0006805                       Juvenile dermatomyositis   \n",
      "25  GARD:0006263                                Dermatomyositis   \n",
      "26  GARD:0000558                       Adrenocortical carcinoma   \n",
      "27  GARD:0013215                           Renal cell carcinoma   \n",
      "28  GARD:0007295                                 Ovarian cancer   \n",
      "29  GARD:0010252                       Primary Sjögren syndrome   \n",
      "\n",
      "   COUNT_ARTICLES COUNT_TRIALS ClassificationLevel  \n",
      "0           30737          691            Disorder  \n",
      "1            9992         1252  Group of disorders  \n",
      "2            3147           65            Disorder  \n",
      "3             819            0            Disorder  \n",
      "4             394           10            Disorder  \n",
      "5            1438           15            Disorder  \n",
      "6           48815         1149            Disorder  \n",
      "7             261            1            Disorder  \n",
      "8             424            4            Disorder  \n",
      "9            6475          345            Disorder  \n",
      "10           5083          111            Disorder  \n",
      "11              6           24  Group of disorders  \n",
      "12          46211         1843  Group of disorders  \n",
      "13           4569           62            Disorder  \n",
      "14           1676           50            Disorder  \n",
      "15          46579         2627            Disorder  \n",
      "16           8548          109            Disorder  \n",
      "17            460            3            Disorder  \n",
      "18           2322           25  Group of disorders  \n",
      "19         166230           75            Disorder  \n",
      "20           4137         1128            Disorder  \n",
      "21              9            0            Disorder  \n",
      "22          18189          663  Group of disorders  \n",
      "23          19863          420            Disorder  \n",
      "24           1586           19            Disorder  \n",
      "25          10226           89            Disorder  \n",
      "26           3460           65            Disorder  \n",
      "27          48563          679  Group of disorders  \n",
      "28          70408         1902  Group of disorders  \n",
      "29           5401            8            Disorder  \n"
     ]
    }
   ],
   "source": [
    "gard_data = [{\n",
    "    \"GardId\": obj[\"GardId\"],\n",
    "    \"GardName\": obj[\"GardName\"],\n",
    "    \"COUNT_ARTICLES\": obj[\"COUNT_ARTICLES\"],\n",
    "    \"COUNT_TRIALS\": obj[\"COUNT_TRIALS\"],\n",
    "    \"ClassificationLevel\": obj[\"ClassificationLevel\"]\n",
    "} for obj in response_json[\"gards\"]]\n",
    "df = pd.DataFrame(gard_data)\n",
    "print(df)"
   ]
  },
  {
   "cell_type": "markdown",
   "id": "e77f786e7b33164d",
   "metadata": {
    "collapsed": false,
    "user_expressions": []
   },
   "source": [
    "## Get Drug Details\n",
    "#### Create GET request strings"
   ]
  },
  {
   "cell_type": "code",
   "execution_count": 111,
   "id": "2d4bd27398058756",
   "metadata": {
    "collapsed": false,
    "ExecuteTime": {
     "end_time": "2024-10-25T04:03:13.110992Z",
     "start_time": "2024-10-25T04:03:11.715489Z"
    }
   },
   "outputs": [
    {
     "name": "stdout",
     "output_type": "stream",
     "text": [
      "         name approval_ID substanceClass    status        formula      mwt\n",
      "0  BORTEZOMIB  69G8BD63PP       chemical  approved    C19H25BN4O4  384.237\n",
      "1   GEFITINIB  S65743JHBS       chemical  approved  C22H24ClFN4O3  446.902\n"
     ]
    }
   ],
   "source": [
    "drug_requests = [f\"https://drugs.ncats.io/api/v1/substances({unii})?view=full\" for unii in unii_aliases]\n",
    "\n",
    "drug_objects = []\n",
    "for req in drug_requests:\n",
    "    \n",
    "    drug_json = json.loads(requests.get(req).text)\n",
    "    \n",
    "    if \"_name\" in drug_json:\n",
    "        drug_obj = {\n",
    "            \"name\": drug_json[\"_name\"], \n",
    "            \"approval_ID\": drug_json[\"approvalID\"],\n",
    "            \"substanceClass\": drug_json[\"substanceClass\"],\n",
    "            \"status\": drug_json[\"status\"]\n",
    "        }\n",
    "        if \"structure\" in drug_json:\n",
    "            drug_obj[\"formula\"] = drug_json[\"structure\"][\"formula\"]\n",
    "            drug_obj[\"mwt\"] = drug_json[\"structure\"][\"mwt\"]\n",
    "        \n",
    "        drug_objects.append(drug_obj)\n",
    "    else:\n",
    "        print(drug_json)\n",
    "\n",
    "df = pd.DataFrame(drug_objects)\n",
    "print(df)"
   ]
  },
  {
   "cell_type": "code",
   "execution_count": null,
   "id": "22297d5927c88151",
   "metadata": {
    "collapsed": false
   },
   "outputs": [],
   "source": []
  }
 ],
 "metadata": {
  "kernelspec": {
   "display_name": "Python 3 (ipykernel)",
   "language": "python",
   "name": "python3"
  },
  "language_info": {
   "codemirror_mode": {
    "name": "ipython",
    "version": 3
   },
   "file_extension": ".py",
   "mimetype": "text/x-python",
   "name": "python",
   "nbconvert_exporter": "python",
   "pygments_lexer": "ipython3",
   "version": "3.11.5"
  }
 },
 "nbformat": 4,
 "nbformat_minor": 5
}
